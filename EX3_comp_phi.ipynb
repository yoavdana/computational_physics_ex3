{
  "nbformat": 4,
  "nbformat_minor": 0,
  "metadata": {
    "colab": {
      "name": "EX3_comp_phi.ipynb",
      "provenance": [],
      "collapsed_sections": [],
      "authorship_tag": "ABX9TyM+ks2RTwLhiEEtuP8jo0rD",
      "include_colab_link": true
    },
    "kernelspec": {
      "name": "python3",
      "display_name": "Python 3"
    },
    "language_info": {
      "name": "python"
    }
  },
  "cells": [
    {
      "cell_type": "markdown",
      "metadata": {
        "id": "view-in-github",
        "colab_type": "text"
      },
      "source": [
        "<a href=\"https://colab.research.google.com/github/yoavdana/computational_physics_ex3/blob/main/EX3_comp_phi.ipynb\" target=\"_parent\"><img src=\"https://colab.research.google.com/assets/colab-badge.svg\" alt=\"Open In Colab\"/></a>"
      ]
    },
    {
      "cell_type": "markdown",
      "source": [
        "Computational physics EX3 \n",
        "Yoav Dana"
      ],
      "metadata": {
        "id": "HkBsKzLVlBw5"
      }
    },
    {
      "cell_type": "code",
      "execution_count": 1,
      "metadata": {
        "id": "AvYjDCsBlADW"
      },
      "outputs": [],
      "source": [
        "import numpy as np\n",
        "from matplotlib import pyplot as plt "
      ]
    },
    {
      "cell_type": "markdown",
      "source": [
        "Integral functions"
      ],
      "metadata": {
        "id": "5l_gn_f7lYnZ"
      }
    },
    {
      "cell_type": "code",
      "source": [
        "def simpson(f,a,b):\n",
        "  h=(b-a)/2\n",
        "  return h*(f(a)+4*f((b+a)/2)+f(b))/3\n",
        "\n",
        "def gauss_legan(f,a,b):\n",
        "  x=[-0.774596669,0,0.774596669] \n",
        "  w=[0.5555556,0.8888889,0.5555556]\n",
        "  G=0\n",
        "  for i in range(3):\n",
        "        G += w[i]*f(0.5*(b-a)*x[i]+ 0.5*(b+a))\n",
        "  return 0.5*(b-a)*G\n",
        "\n",
        "\n",
        "\n",
        "def fix_segments(f,a,b,eps,integral_type):\n",
        "  n=2*int(1/(2*eps))+1\n",
        "  points=np.linspace(a,b,n)\n",
        "  integral=0\n",
        "  for i in range(1,n):\n",
        "      integral+=integral_type(f,points[i-1],points[i])\n",
        "  return integral\n",
        "\n",
        "def recursive(f,a,b,eps,integral_type):\n",
        "  I0=integral_type(f,a,b)\n",
        "  return recursive_helper(f,a,b,eps,integral_type,I0)\n",
        "\n",
        "\n",
        "def recursive_helper(f,a,b,eps,integral_type,I0,depth=0):\n",
        "  m=(b-a)/2\n",
        "  I1=integral_type(f,a,m)\n",
        "  I2=integral_type(f,m,b)\n",
        "  delta=np.abs(I0-(I1+I2))\n",
        "  if (delta<=eps and depth>=2) or (depth>=50): \n",
        "    return I1+I2\n",
        "  return recursive_helper(f,a,m,eps/2,integral_type,I1,depth+1)+ recursive_helper(f,m,b,eps/2,integral_type,I2,depth+1)\n",
        " \n",
        "   \n",
        "\n",
        "def f_integral(f,a,b,eps,global_type,integral_type):\n",
        "  return global_type(f,a,b,eps,integral_type)\n",
        "\n",
        "\n",
        "\n"
      ],
      "metadata": {
        "id": "deV443xild05"
      },
      "execution_count": 99,
      "outputs": []
    },
    {
      "cell_type": "markdown",
      "source": [
        "Root functions"
      ],
      "metadata": {
        "id": "17hX7jm3wYL4"
      }
    },
    {
      "cell_type": "code",
      "source": [
        "\n",
        "def bisection(f,a,b,epsx,epsf):\n",
        "  m=(a+b)/2\n",
        "  if np.sign(f(a)*f(b))>=0:\n",
        "    print(\"no roots between a and b\")\n",
        "    return  \n",
        "  elif np.abs(f(m))<=epsf or (b-a)<=epsx:\n",
        "    return m\n",
        "  elif f(m)>0:\n",
        "    return bisection(f,a,m,epsx,epsf) \n",
        "  elif f(m)<0:   \n",
        "    return bisection(f,m,b,epsx,epsf)\n",
        "\n",
        "\n",
        "def x_root(f,a,b,epsx,epsf,type):\n",
        "  return type(f,a,b,epsx,epsf)\n",
        "\n",
        "\n"
      ],
      "metadata": {
        "id": "Ec2eevuZwYdI"
      },
      "execution_count": 118,
      "outputs": []
    },
    {
      "cell_type": "markdown",
      "source": [
        "root test"
      ],
      "metadata": {
        "id": "zcT3-hxq3wWy"
      }
    },
    {
      "cell_type": "code",
      "source": [
        "def fr(x):\n",
        "  return x**3-1\n",
        "r=x_root(fr,-2,3,0.00002,0.00002,bisection)\n",
        "print(r)\n"
      ],
      "metadata": {
        "colab": {
          "base_uri": "https://localhost:8080/"
        },
        "id": "-o8FEuzF3w4p",
        "outputId": "15d0c9ec-5e3b-4329-8fab-5a9181efea2a"
      },
      "execution_count": 120,
      "outputs": [
        {
          "output_type": "stream",
          "name": "stdout",
          "text": [
            "1.0000019073486328\n"
          ]
        }
      ]
    },
    {
      "cell_type": "markdown",
      "source": [
        ""
      ],
      "metadata": {
        "id": "4Ns_wCvY3xga"
      }
    },
    {
      "cell_type": "markdown",
      "source": [
        "integral testing"
      ],
      "metadata": {
        "id": "Yq3_DAgx92qV"
      }
    },
    {
      "cell_type": "code",
      "source": [
        "def f(x):\n",
        "  return x**2\n",
        "\n",
        "method=gauss_legan\n",
        "#method=simpson\n",
        "integ=f_integral(f,-1,1,0.01,fix_segments,method)\n",
        "integ=f_integral(f,-1,1,0.01,recursive,method)\n",
        "error=np.abs(integ-2/3)\n",
        "print(integ)"
      ],
      "metadata": {
        "colab": {
          "base_uri": "https://localhost:8080/"
        },
        "id": "Pyjczyrf95ku",
        "outputId": "3fd40703-5baa-49dc-9c9f-1f956d972bcc"
      },
      "execution_count": 102,
      "outputs": [
        {
          "output_type": "stream",
          "name": "stdout",
          "text": [
            "101\n",
            "0.6666667122402052\n"
          ]
        }
      ]
    }
  ]
}